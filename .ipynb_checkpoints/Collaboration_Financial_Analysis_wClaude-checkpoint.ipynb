{
  "cells": [
    {
      "cell_type": "markdown",
      "metadata": {
        "id": "gOYa1Aq1eZdj"
      },
      "source": [
        "Multi-agent Collaboration for Financial Analysis with Anthropic Claude and CrewAI\n"
      ]
    },
    {
      "cell_type": "code",
      "execution_count": null,
      "metadata": {
        "id": "2DnWr0K3ea-u"
      },
      "outputs": [],
      "source": [
        "#Install libraries\n",
        "\n",
        "!pip install crewai"
      ]
    },
    {
      "cell_type": "code",
      "execution_count": null,
      "metadata": {
        "id": "avAogfhKSttT"
      },
      "outputs": [],
      "source": [
        "!pip install crewai_tools"
      ]
    },
    {
      "cell_type": "code",
      "execution_count": null,
      "metadata": {
        "id": "I35dOzQ7Z6Ac"
      },
      "outputs": [],
      "source": [
        "!pip install anthropic litellm langchain_community"
      ]
    },
    {
      "cell_type": "code",
      "execution_count": 3,
      "metadata": {
        "height": 64,
        "id": "Uw2e793FeZdk"
      },
      "outputs": [],
      "source": [
        "# Warning control\n",
        "import warnings\n",
        "warnings.filterwarnings('ignore')"
      ]
    },
    {
      "cell_type": "markdown",
      "metadata": {
        "id": "7WNtkem8eZdk"
      },
      "source": [
        "- Import libraries, APIs and LLM"
      ]
    },
    {
      "cell_type": "code",
      "execution_count": 5,
      "metadata": {
        "height": 30,
        "id": "EsbGEBmyeZdk"
      },
      "outputs": [],
      "source": [
        "from crewai import Agent, Task, Crew, LLM"
      ]
    },
    {
      "cell_type": "code",
      "execution_count": 6,
      "metadata": {
        "id": "1uWqjm_Vafog"
      },
      "outputs": [],
      "source": [
        "import litellm\n",
        "from litellm import AnthropicChatCompletion"
      ]
    },
    {
      "cell_type": "markdown",
      "metadata": {
        "id": "B5AYbW8KeZdk"
      },
      "source": [
        "**Note**:\n",
        "If you use Google Colab to run you can mount your folder to work with files"
      ]
    },
    {
      "cell_type": "code",
      "execution_count": null,
      "metadata": {
        "colab": {
          "base_uri": "https://localhost:8080/"
        },
        "id": "YiV-TRuKfJBA",
        "outputId": "03d672aa-4647-4f7e-eb42-884e739d4481"
      },
      "outputs": [],
      "source": [
        "# Mount Google Drive. If you use Google Colab this is convenient way to store files and work\n",
        "\n",
        "from google.colab import drive\n",
        "drive.mount('/content/drive')\n",
        "\n",
        "# Add the path to your Google Drive folder to sys.path\n",
        "import sys\n",
        "import os\n",
        "\n",
        "# Replace 'My Drive/Multi-Agency' with the actual path to your Google Drive folder\n",
        "# where utils.py is located\n",
        "sys.path.append('/content/drive/My Drive/Multi-Agency')\n",
        "\n",
        "import os\n",
        "from utils import get_claude_api_key, pretty_print_result\n",
        "from utils import get_serper_api_key"
      ]
    },
    {
      "cell_type": "code",
      "execution_count": 9,
      "metadata": {
        "id": "BG-2YiDFSNKU"
      },
      "outputs": [],
      "source": [
        "# USE THIS FOR CLAUDE\n",
        "\n",
        "anthropic_api_key = get_claude_api_key()\n",
        "serper_api_key = get_serper_api_key()\n",
        "\n",
        "os.environ[\"ANTHROPIC_API_KEY\"] = anthropic_api_key\n",
        "os.environ[\"ANTHROPIC_MODEL_NAME\"] = 'claude-3-5-sonnet-20241022'\n",
        "os.environ[\"SERPER_API_KEY\"] = serper_api_key"
      ]
    },
    {
      "cell_type": "code",
      "execution_count": 10,
      "metadata": {
        "id": "mbX5F_uBZJJz"
      },
      "outputs": [],
      "source": [
        "# Configure the Claude LLM\n",
        "llm =LLM(\n",
        "    model=\"claude-3-5-sonnet-20241022\",  # Specify the Claude model version\n",
        "    temperature = 0.7,\n",
        "    max_tokens = 1000,\n",
        "    api_key=anthropic_api_key\n",
        ")"
      ]
    },
    {
      "cell_type": "markdown",
      "metadata": {
        "id": "Vo6lD3uPeZdl"
      },
      "source": [
        "## crewAI Tools"
      ]
    },
    {
      "cell_type": "code",
      "execution_count": 11,
      "metadata": {
        "height": 81,
        "id": "fahAElLDeZdl"
      },
      "outputs": [],
      "source": [
        "from crewai_tools import ScrapeWebsiteTool, SerperDevTool\n",
        "\n",
        "scrape_tool = ScrapeWebsiteTool()\n",
        "\n",
        "search_tool = SerperDevTool(\n",
        "    name=\"search\",\n",
        "    func=\"Perform a web search\",\n",
        "    description=\"Fetches search results from the web\",\n",
        "    n_results=10  # Set the number of results to fetch\n",
        ")"
      ]
    },
    {
      "cell_type": "markdown",
      "metadata": {
        "id": "PdQPU3rzeZdl"
      },
      "source": [
        "## Creating Agents"
      ]
    },
    {
      "cell_type": "code",
      "execution_count": null,
      "metadata": {
        "colab": {
          "base_uri": "https://localhost:8080/"
        },
        "height": 234,
        "id": "AcpMcFZ_eZdm",
        "outputId": "e84c15d2-0b27-4d81-b7e7-f2baa9cd22cf"
      },
      "outputs": [],
      "source": [
        "data_analyst_agent = Agent(\n",
        "    role=\"Data Analyst\",\n",
        "    goal=\"Monitor and analyze market data in real-time \"\n",
        "         \"to identify trends and predict market movements.\",\n",
        "    backstory=\"Specializing in financial markets, this agent \"\n",
        "              \"uses statistical modeling and machine learning \"\n",
        "              \"to provide crucial insights. With a knack for data, \"\n",
        "              \"the Data Analyst Agent is the cornerstone for \"\n",
        "              \"informing trading decisions.\",\n",
        "    verbose=True,\n",
        "    allow_delegation=True,\n",
        "    llm=llm,\n",
        "    tools = [scrape_tool, search_tool]\n",
        ")"
      ]
    },
    {
      "cell_type": "code",
      "execution_count": null,
      "metadata": {
        "colab": {
          "base_uri": "https://localhost:8080/"
        },
        "height": 234,
        "id": "R7T7vfi-eZdm",
        "outputId": "d2f47bee-7caa-49be-ca57-cd7b14e9de7b"
      },
      "outputs": [],
      "source": [
        "trading_strategy_agent = Agent(\n",
        "    role=\"Trading Strategy Developer\",\n",
        "    goal=\"Develop and test various trading strategies based \"\n",
        "         \"on insights from the Data Analyst Agent.\",\n",
        "    backstory=\"Equipped with a deep understanding of financial \"\n",
        "              \"markets and quantitative analysis, this agent \"\n",
        "              \"devises and refines trading strategies. It evaluates \"\n",
        "              \"the performance of different approaches to determine \"\n",
        "              \"the most profitable and risk-averse options.\",\n",
        "    verbose=True,\n",
        "    allow_delegation=True,\n",
        "    llm=llm,\n",
        "    tools = [scrape_tool, search_tool]\n",
        ")"
      ]
    },
    {
      "cell_type": "code",
      "execution_count": null,
      "metadata": {
        "colab": {
          "base_uri": "https://localhost:8080/"
        },
        "height": 234,
        "id": "Y6TcV7SpeZdm",
        "outputId": "fd30e859-3e84-477d-fcad-eb1062abd5e0"
      },
      "outputs": [],
      "source": [
        "execution_agent = Agent(\n",
        "    role=\"Trade Advisor\",\n",
        "    goal=\"Suggest optimal trade execution strategies \"\n",
        "         \"based on approved trading strategies.\",\n",
        "    backstory=\"This agent specializes in analyzing the timing, price, \"\n",
        "              \"and logistical details of potential trades. By evaluating \"\n",
        "              \"these factors, it provides well-founded suggestions for \"\n",
        "              \"when and how trades should be executed to maximize \"\n",
        "              \"efficiency and adherence to strategy.\",\n",
        "    verbose=True,\n",
        "    allow_delegation=True,\n",
        "    llm=llm,\n",
        "    tools = [scrape_tool, search_tool]\n",
        ")"
      ]
    },
    {
      "cell_type": "code",
      "execution_count": null,
      "metadata": {
        "colab": {
          "base_uri": "https://localhost:8080/"
        },
        "height": 234,
        "id": "oo8gTD9XeZdm",
        "outputId": "e1851a82-68d8-476f-e7c0-cbffbfeb45d9"
      },
      "outputs": [],
      "source": [
        "risk_management_agent = Agent(\n",
        "    role=\"Risk Advisor\",\n",
        "    goal=\"Evaluate and provide insights on the risks \"\n",
        "         \"associated with potential trading activities.\",\n",
        "    backstory=\"Armed with a deep understanding of risk assessment models \"\n",
        "              \"and market dynamics, this agent scrutinizes the potential \"\n",
        "              \"risks of proposed trades. It offers a detailed analysis of \"\n",
        "              \"risk exposure and suggests safeguards to ensure that \"\n",
        "              \"trading activities align with the firm’s risk tolerance.\",\n",
        "    verbose=True,\n",
        "    allow_delegation=True,\n",
        "    llm=llm,\n",
        "    tools = [scrape_tool, search_tool]\n",
        ")"
      ]
    },
    {
      "cell_type": "markdown",
      "metadata": {
        "id": "PwE5U72FeZdm"
      },
      "source": [
        "## Creating Tasks"
      ]
    },
    {
      "cell_type": "code",
      "execution_count": 20,
      "metadata": {
        "height": 251,
        "id": "KWvYEBsveZdm"
      },
      "outputs": [],
      "source": [
        "# Task for Data Analyst Agent: Analyze Market Data\n",
        "data_analysis_task = Task(\n",
        "    description=(\n",
        "        \"Continuously monitor and analyze market data for \"\n",
        "        \"the selected stock ({stock_selection}). \"\n",
        "        \"Use statistical modeling and machine learning to \"\n",
        "        \"identify trends and predict market movements.\"\n",
        "    ),\n",
        "    expected_output=(\n",
        "        \"Insights and alerts about significant market \"\n",
        "        \"opportunities or threats for {stock_selection}.\"\n",
        "    ),\n",
        "    agent=data_analyst_agent,\n",
        ")"
      ]
    },
    {
      "cell_type": "code",
      "execution_count": 21,
      "metadata": {
        "height": 268,
        "id": "lm2Rhh-neZdm"
      },
      "outputs": [],
      "source": [
        "# Task for Trading Strategy Agent: Develop Trading Strategies\n",
        "strategy_development_task = Task(\n",
        "    description=(\n",
        "        \"Develop and refine trading strategies based on \"\n",
        "        \"the insights from the Data Analyst and \"\n",
        "        \"user-defined risk tolerance ({risk_tolerance}). \"\n",
        "        \"Consider trading preferences ({trading_strategy_preference}).\"\n",
        "    ),\n",
        "    expected_output=(\n",
        "        \"A set of potential trading strategies for {stock_selection} \"\n",
        "        \"that align with the user's risk tolerance.\"\n",
        "    ),\n",
        "    agent=trading_strategy_agent,\n",
        ")\n"
      ]
    },
    {
      "cell_type": "code",
      "execution_count": 22,
      "metadata": {
        "height": 251,
        "id": "2vIQYtQueZdn"
      },
      "outputs": [],
      "source": [
        "# Task for Trade Advisor Agent: Plan Trade Execution\n",
        "execution_planning_task = Task(\n",
        "    description=(\n",
        "        \"Analyze approved trading strategies to determine the \"\n",
        "        \"best execution methods for {stock_selection}, \"\n",
        "        \"considering current market conditions and optimal pricing.\"\n",
        "    ),\n",
        "    expected_output=(\n",
        "        \"Detailed execution plans suggesting how and when to \"\n",
        "        \"execute trades for {stock_selection}.\"\n",
        "    ),\n",
        "    agent=execution_agent,\n",
        ")\n"
      ]
    },
    {
      "cell_type": "code",
      "execution_count": 23,
      "metadata": {
        "height": 251,
        "id": "GLmG8fwQeZdn"
      },
      "outputs": [],
      "source": [
        "# Task for Risk Advisor Agent: Assess Trading Risks\n",
        "risk_assessment_task = Task(\n",
        "    description=(\n",
        "        \"Evaluate the risks associated with the proposed trading \"\n",
        "        \"strategies and execution plans for {stock_selection}. \"\n",
        "        \"Provide a detailed analysis of potential risks \"\n",
        "        \"and suggest mitigation strategies.\"\n",
        "    ),\n",
        "    expected_output=(\n",
        "        \"A comprehensive risk analysis report detailing potential \"\n",
        "        \"risks and mitigation recommendations for {stock_selection}.\"\n",
        "    ),\n",
        "    agent=risk_management_agent,\n",
        ")"
      ]
    },
    {
      "cell_type": "markdown",
      "metadata": {
        "id": "N963zZbxeZdn"
      },
      "source": [
        "## Creating the Crew\n",
        "- The `Process` class helps to delegate the workflow to the Agents (kind of like a Manager at work)\n",
        "- In the example below, it will run this hierarchically.\n",
        "- `manager_llm` lets you choose the \"manager\" LLM you want to use."
      ]
    },
    {
      "cell_type": "code",
      "execution_count": 64,
      "metadata": {
        "id": "FGgBaJii-WEX"
      },
      "outputs": [],
      "source": [
        "manager_llm = LLM(\n",
        "    model=\"claude-3-5-haiku-20241022\",  # You can use different model for Manager LLM\n",
        "    temperature = 0.7,\n",
        "    max_tokens = 500,\n",
        "    api_key=anthropic_api_key\n",
        ")"
      ]
    },
    {
      "cell_type": "code",
      "execution_count": null,
      "metadata": {
        "id": "jnkjA24ATayM"
      },
      "outputs": [],
      "source": [
        "from crewai import Crew, Process\n",
        "\n",
        "# Define the crew with agents and tasks\n",
        "financial_trading_crew = Crew(\n",
        "    agents=[data_analyst_agent,\n",
        "            trading_strategy_agent,\n",
        "            execution_agent,\n",
        "            risk_management_agent],\n",
        "\n",
        "    tasks=[data_analysis_task,\n",
        "           strategy_development_task,\n",
        "           execution_planning_task,\n",
        "           risk_assessment_task],\n",
        "\n",
        "    manager_llm=manager_llm,\n",
        "    process=Process.hierarchical,\n",
        "    verbose=True\n",
        ")"
      ]
    },
    {
      "cell_type": "markdown",
      "metadata": {
        "id": "y0P3W_rKeZdn"
      },
      "source": [
        "## Running the Crew\n",
        "\n",
        "- Set the inputs for the execution of the crew."
      ]
    },
    {
      "cell_type": "code",
      "execution_count": 66,
      "metadata": {
        "height": 149,
        "id": "68IZD_cweZdn"
      },
      "outputs": [],
      "source": [
        "# Example data for kicking off the process\n",
        "financial_trading_inputs = {\n",
        "    'stock_selection': 'AMZN',\n",
        "    'initial_capital': '100000',\n",
        "    'risk_tolerance': 'Medium',\n",
        "    'trading_strategy_preference': '1 year',\n",
        "    'news_impact_consideration': True\n",
        "}"
      ]
    },
    {
      "cell_type": "markdown",
      "metadata": {
        "id": "JUoPY-n9eZdn"
      },
      "source": [
        "**Note**: LLMs can provide different outputs for they same input, so what you get might be different every time you run"
      ]
    },
    {
      "cell_type": "code",
      "execution_count": null,
      "metadata": {
        "colab": {
          "base_uri": "https://localhost:8080/"
        },
        "height": 47,
        "id": "mcNOhY1seZdn",
        "outputId": "b0318be5-b6a1-4fe5-b272-8d20ca287801"
      },
      "outputs": [],
      "source": [
        "### this execution will take some time to run\n",
        "result = financial_trading_crew.kickoff(inputs=financial_trading_inputs)"
      ]
    },
    {
      "cell_type": "markdown",
      "metadata": {
        "id": "6D-SayzveZdn"
      },
      "source": [
        "- Display the final result as Markdown."
      ]
    },
    {
      "cell_type": "code",
      "execution_count": null,
      "metadata": {
        "colab": {
          "base_uri": "https://localhost:8080/",
          "height": 1000
        },
        "height": 47,
        "id": "FEOFWEAzeZdn",
        "outputId": "a27417bd-7a4a-407f-8768-91d3d7ed5685"
      },
      "outputs": [],
      "source": [
        "from IPython.display import Markdown\n",
        "Markdown(result.raw)"
      ]
    },
    {
      "cell_type": "code",
      "execution_count": null,
      "metadata": {
        "height": 30,
        "id": "XRzYfxaaeZdn"
      },
      "outputs": [],
      "source": []
    },
    {
      "cell_type": "code",
      "execution_count": null,
      "metadata": {
        "height": 30,
        "id": "3wrDAtKLeZdn"
      },
      "outputs": [],
      "source": []
    }
  ],
  "metadata": {
    "colab": {
      "provenance": []
    },
    "kernelspec": {
      "display_name": "Python 3",
      "language": "python",
      "name": "python3"
    },
    "language_info": {
      "codemirror_mode": {
        "name": "ipython",
        "version": 3
      },
      "file_extension": ".py",
      "mimetype": "text/x-python",
      "name": "python",
      "nbconvert_exporter": "python",
      "pygments_lexer": "ipython3",
      "version": "3.12.3"
    }
  },
  "nbformat": 4,
  "nbformat_minor": 0
}
